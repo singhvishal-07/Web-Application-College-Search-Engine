{
  "nbformat": 4,
  "nbformat_minor": 0,
  "metadata": {
    "colab": {
      "name": "Basic info.ipynb",
      "version": "0.3.2",
      "provenance": [],
      "collapsed_sections": []
    },
    "kernelspec": {
      "display_name": "Python 3",
      "language": "python",
      "name": "python3"
    }
  },
  "cells": [
    {
      "metadata": {
        "id": "-k4xtkPSwz4f",
        "colab_type": "code",
        "colab": {}
      },
      "cell_type": "code",
      "source": [
        "from selenium import webdriver\n",
        "#optional: add 'incognito' command line arg to options\n",
        "option = webdriver.ChromeOptions()\n",
        "option.add_argument(\"--incognito\")\n",
        "# create new instance of chrome in incognito mode\n",
        "chrome_path=r\"C:\\Users\\Admin\\Desktop\\chromedriver.exe\"\n",
        "browser = webdriver.Chrome(chrome_path)\n",
        "# go to website of interest\n",
        "browser.get(\"https://engineering.careers360.com/colleges/list-of-engineering-colleges-in-navi-mumbai\")\n",
        "# wait up to 10 seconds for page to load\n",
        "timeout = 10\n",
        "title=browser.find_elements_by_class_name(\"title\")[11:] #it is 11 because there are 4-5 colleges on the top which are advertisment like manipal etc\n",
        "titles = [x.text for x in title]\n",
        "#print(titles)\n",
        "everythingelse=browser.find_elements_by_class_name(\"combine-block\")[3:] # also note that it is find_elementS and not find_element\n",
        "details=[x.text.splitlines() for x in everythingelse]\n",
        "#print(details)"
      ],
      "execution_count": 0,
      "outputs": []
    },
    {
      "metadata": {
        "id": "6tZDjgzGwz4y",
        "colab_type": "code",
        "colab": {},
        "outputId": "babad50a-a5df-4cc6-daef-9dcc8b0b7f7b"
      },
      "cell_type": "code",
      "source": [
        "print(details)"
      ],
      "execution_count": 0,
      "outputs": [
        {
          "output_type": "stream",
          "text": [
            "[['Dr DY Patil University, Navi Mumbai', 'Navi Mumbai, Maharashtra', 'Ownership: Private', 'Rated (AAA+) in Top Engineering Colleges in Maharashtra', '?', 'Approved by: UGC', 'Follow', 'B.Tech Biotechnology', '+7 more courses', 'Degree: B.E /Btech', 'Duration: 4 Years', 'Mode: Full time', 'Fee: 7.1 Lakhs', 'Compare'], ['Fr C Rodrigues Institute of Technology, Navi Mumbai', 'Navi Mumbai, Maharashtra', 'Ownership: Private', 'Rated (AAA+) in Top Engineering Colleges in Maharashtra', '?', 'Approved by: AICTE', 'Exams Accepted: MHT CET, JEE Main, GATE', 'Follow', 'BE Computer Engineering', '+12 more courses', 'Degree: B.E /Btech', 'Duration: 4 Years', 'Mode: Full time', 'Fee: 4.51 Lakhs', 'Compare'], ['Ramrao Adik Institute of Technology, Navi Mumbai', 'Navi Mumbai, Maharashtra', 'Ownership: Private', 'Rated (AAA) in Top Engineering Colleges in Maharashtra', '?', 'Approved by: AICTE', 'Exams Accepted: JEE Main, GATE, SET', 'Follow', 'BE Electronics and Telecommunication Engineering', '+12 more courses', 'Degree: B.E /Btech', 'Duration: 4 Years', 'Mode: Full time', 'Fee: 4.2 Lakhs', 'Compare'], ['Datta Meghe College of Engineering, Navi Mumbai', 'Navi Mumbai, Maharashtra', 'Ownership: Private', 'Institute Type: Affiliated College', 'Approved by: AICTE', 'Exams Accepted: MHT CET', 'Follow', 'BE Civil Engineering', '+12 more courses', 'Degree: B.E /Btech', 'Duration: 4 Years', 'Mode: Full time', 'Fee: 3.71 Lakhs', 'Compare'], ['Bharati Vidyapeeth College of Engineering, Navi Mumbai', 'Navi Mumbai, Maharashtra', 'Ownership: Private', 'Institute Type: Affiliated College', 'Approved by: AICTE', 'Exams Accepted: JEE Main, MHT CET, GATE', 'Follow', 'BE Electronics and Telecommunication Engineering', '+7 more courses', 'Degree: B.E /Btech', 'Duration: 4 Years', 'Mode: Full time', 'Fee: 3.69 Lakhs', 'Compare'], ['Lokmanya Tilak College of Engineering, Navi Mumbai', 'Navi Mumbai, Maharashtra', 'Ownership: Private', 'Institute Type: Affiliated College', 'Approved by: AICTE', 'Accreditated To: NAAC', 'Exams Accepted: MHT CET, GATE', 'Follow', 'BE Computer Engineering', '+8 more courses', 'Degree: B.E /Btech', 'Duration: 4 Years', 'Mode: Full time', 'Fee: 4.71 Lakhs', 'Compare'], ['Saraswati College of Engineering, Navi Mumbai', 'Navi Mumbai, Maharashtra', 'Ownership: Private', 'Institute Type: Affiliated College', 'Approved by: AICTE', 'Exams Accepted: MHT CET, JEE Main', 'Follow', 'BE Civil Engineering', '+11 more courses', 'Degree: B.E /Btech', 'Duration: 4 Years', 'Mode: Full time', 'Fee: 3.55 Lakhs', 'Compare'], ['SIES Graduate School of Technology, Navi Mumbai', 'Navi Mumbai, Maharashtra', 'Ownership: Private', 'Institute Type: Affiliated College', 'Approved by: AICTE', 'Accreditated To: NBA', 'Exams Accepted: MHT CET, JEE Main', 'Follow', 'B.Tech Electronics and Telecommunication Engineering', '+4 more courses', 'Degree: B.E /Btech', 'Duration: 4 Years', 'Mode: Full time', 'Fee: 4.38 Lakhs', 'Compare'], [\"Terna Public Charitable Trust's Terna Engineering College, N..\", 'Navi Mumbai, Maharashtra', 'Ownership: Private', 'Rated (AAA) in Top Engineering Colleges in Maharashtra', '?', 'Approved by: AICTE', 'Accreditated To: NBA', 'Exams Accepted: MHT CET, JEE Main', 'Follow', 'BE Computer Engineering', '+11 more courses', 'Degree: B.E /Btech', 'Duration: 4 Years', 'Mode: Full time', 'Fee: 3.83 Lakhs', 'Compare'], ['Pillai College of Engineering, New Panvel', 'Navi Mumbai, Maharashtra', 'Ownership: Private', 'Institute Type: Affiliated College', 'Approved by: AICTE', 'Accreditated To: NBA', 'Exams Accepted: MHT CET', 'Follow', 'B.Tech Computer Engineering', '+10 more courses', 'Degree: B.E /Btech', 'Duration: 4 Years', 'Mode: Full time', 'Fee: 3.82 Lakhs', 'Compare'], [\"Anjuman-I-Islam's Kalsekar Technical Campus, Navi Mumbai\", 'Navi Mumbai, Maharashtra', 'Ownership: Private', 'Institute Type: Affiliated College', 'Approved by: AICTE', 'Exams Accepted: GATE, MHT CET, NATA', 'Follow', 'BE Mechanical Engineering', '+13 more courses', 'Degree: B.E /Btech', 'Duration: 4 Years', 'Mode: Full time', 'Fee: 2.78 Lakhs', 'Compare'], [\"Mahatma Gandhi Mission's College of Engineering and Technolo..\", 'Navi Mumbai, Maharashtra', 'Ownership: Private', 'Institute Type: Affiliated College', 'Approved by: AICTE', 'Accreditated To: ISO', 'Exams Accepted: JEE Main, MHT CET, GATE', 'Follow', 'BE Computer Engineering', '+16 more courses', 'Degree: B.E /Btech', 'Duration: 4 Years', 'Mode: Full time', 'Fee: 3.65 Lakhs', 'Compare'], ['Chhatrapati Shivaji Maharaj Institute of Technology, Navi Mumbai', 'Navi Mumbai, Maharashtra', 'Ownership: Private', 'Institute Type: Affiliated College', 'Approved by: AICTE', 'Exams Accepted: JEE Main, MHT CET', 'Follow', 'BE Civil Engineering', '+2 more courses', 'Degree: B.E /Btech', 'Duration: 4 Years', 'Mode: Full time', 'Fee: 2.44 Lakhs', 'Compare'], [\"Jawahar Education Society's AC Patil College of Engineering,..\", 'Navi Mumbai, Maharashtra', 'Ownership: Private', 'Institute Type: Affiliated College', 'Approved by: AICTE', 'Exams Accepted: MHT CET, JEE Main', 'Follow', 'BE Electrical Engineering', '+11 more courses', 'Degree: B.E /Btech', 'Duration: 4 Years', 'Mode: Full time', 'Fee: 3.62 Lakhs', 'Compare'], ['Dr DY Patil Biotechnology and Bioinformatics Institute, Navi Mumb..', 'Navi Mumbai, Maharashtra', 'Ownership: Private', 'Institute Type: Constituent College', 'Approved by: UGC', 'Exams Accepted: MHT CET', 'Follow', 'B.Tech Biotechnology Engineering', '+6 more courses', 'Degree: B.E /Btech', 'Duration: 4 Years', 'Mode: Full time', 'Fee: 7.1 Lakhs', 'Compare'], ['Smt Indira Gandhi College of Engineering, Navi Mumbai', 'Navi Mumbai, Maharashtra', 'Ownership: Private', 'Institute Type: Affiliated College', 'Approved by: AICTE', 'Exams Accepted: JEE Main, MHT CET', 'Follow', 'BE Computer Engineering', '+3 more courses', 'Degree: B.E /Btech', 'Duration: 4 Years', 'Mode: Full time', 'Fee: 2.72 Lakhs', 'Compare'], ['AC Patil College of Engineering, Navi Mumbai', 'Navi Mumbai, Maharashtra', 'Ownership: Private', 'Institute Type: Affiliated College', 'Approved by: AICTE', 'Follow', 'BE Electrical Engineering', '+8 more courses', 'Degree: B.E /Btech', 'Duration: 4 Years', 'Mode: Full time', 'Fee: 3.62 Lakhs', 'Compare'], ['Agnel Polytechnic, Vashi', 'Navi Mumbai, Maharashtra', 'Ownership: Private', 'Institute Type: Affiliated College', 'Approved by: AICTE', 'Follow', 'Diploma in Civil Engineering', '+7 more courses', 'Degree: Diploma in Engineering', 'Duration: 3 Years', 'Mode: Full time', 'Compare'], ['Saraswati Institute of Technology, Navi Mumbai', 'Navi Mumbai, Maharashtra', 'Ownership: Private', 'Institute Type: Affiliated College', 'Approved by: AICTE', 'Follow', 'Diploma in Civil Engineering', '+2 more courses', 'Degree: Diploma in Engineering', 'Duration: 3 Years', 'Mode: Full time', 'Fee: 1.69 Lakhs', 'Compare'], ['Pillai Polytechnic, New Panvel', 'Navi Mumbai, Maharashtra', 'Ownership: Private', 'Institute Type: Affiliated College', 'Approved by: AICTE', 'Follow', 'Diploma in Automobile Engineering', '+3 more courses', 'Degree: Diploma in Engineering', 'Duration: 3 Years', 'Mode: Full time', 'Fee: 1.43 Lakhs', 'Compare'], ['Lokmanya Tilak Institute of Architecture and Design Studies, Navi..', 'Navi Mumbai, Maharashtra', 'Ownership: Private', 'Institute Type: Affiliated College', 'Approved by: COA', 'Exams Accepted: NATA', 'Follow', 'B.Arch', 'Degree: B.Arch', 'Duration: 5 Years', 'Mode: Full time', 'Compare'], ['Maharashtra Mudran Parishads Institute of Printing Technology and..', 'Navi Mumbai, Maharashtra', 'Ownership: Private', 'Institute Type: Affiliated College', 'Approved by: UGC', 'Accreditated To: NAAC A', 'Exams Accepted: MHT CET', 'Follow', 'Diploma in Printing Technology', 'Degree: Diploma in Engineering', 'Duration: 3 Years', 'Mode: Full time', 'Fee: 0.79 Lakhs', 'Compare'], ['Bharati Vidyapeeth College of Architecture, Navi Mumbai', 'Navi Mumbai, Maharashtra', 'Ownership: Private', 'Institute Type: Affiliated College', 'Approved by: COA', 'Accreditated To: NAAC A', 'Follow', 'B.Arch', 'Degree: B.Arch', 'Duration: 5 Years', 'Mode: Full time', 'Compare'], ['Anjuman I Islam’s AR Kalsekar Polytechnic, Navi Mumbai', 'Navi Mumbai, Maharashtra', 'Ownership: Private', 'Institute Type: Affiliated College', 'Approved by: AICTE', 'Accreditated To: ISO', 'Follow', 'Diploma in Mechanical Engineering', '+7 more courses', 'Degree: Diploma in Engineering', 'Duration: 3 Years', 'Mode: Full time', 'Fee: 1.43 Lakhs', 'Compare'], ['Padmashree Dr DY Patil Polytechnic, Nerul', 'Navi Mumbai, Maharashtra', 'Ownership: Private', 'Institute Type: Affiliated College', 'Approved by: AICTE', 'Follow', 'Diploma in Computer Engineering', '+7 more courses', 'Degree: Diploma in Engineering', 'Duration: 3 Years', 'Mode: Full time', 'Fee: 1.77 Lakhs', 'Compare'], ['St Wilfred’s Institute of Architecture, Raigad', 'Navi Mumbai, Maharashtra', 'Ownership: Private', 'Institute Type: Affiliated College', 'Approved by: COA', 'Follow', 'B.Arch', 'Degree: B.Arch', 'Duration: 5 Years', 'Mode: Full time', 'Compare']]\n"
          ],
          "name": "stdout"
        }
      ]
    },
    {
      "metadata": {
        "id": "6JO5TgTCwz5C",
        "colab_type": "code",
        "colab": {},
        "outputId": "9adc8b24-88a8-4baf-b737-250e379c933c"
      },
      "cell_type": "code",
      "source": [
        "droplist = [\"?\",\"by:\",\"+11\",\"+13\",\"Biotechnology\",\"Electrical\",\"Diploma in\",\"Institute Type: Affiliated College\",\"Institute Type: Constituent College\",\"+16\",\"NAAC\",\"NBA\",\"Automobile\",\"Telecommunication\",\"ISO\",\"+10\",\"+20\",\"PGDIE\",\"PGD\",\"In\",\"NBA\",\"+30\",\"+34\",\"Institute Type: Autonomous College\",\"Bachelor of Chemical Engineering\",\"Institute Type: State University\",\"Institute Type: Affiliated College\",\"Rated (AAAA+) in Top Engineering Colleges in Maharashtra\",\"Rated (AAA) in Top Engineering Colleges in Maharashtra\",\"Rated (AAAA) in Top Engineering Colleges in Maharashtra\",\"Fee:\",\"+74\",\"B.Tech\",\"Exams\",\"Accepted:\",\"Rated (AAA+) in Top Engineering Colleges in Maharashtra\",\"Rated (AAAAA) in Top Engineering Colleges in Maharashtra\",\"PGCET\",\"+12\",\"more\",\"course\",\"courses\",\"Accreditated\",\"To:\", \"Ownership:\",\"Follow\", \"Apply\",\"Degree:\",\"B.E\",\"/Btech\",\"Duration:\",\"Years\",\"Approved\",\"Mode:\",\"Full\",\"time\",\"Compare\",\"Electronics\", \"Communication\", \"Engineering\",\"BE\", \"Civil\" ,\"Computer\", \"Science\" ,\"and\" ,\"Mechanical\", \"Aerospace\", ]\n",
        "\n",
        "dropclg=[\"SNDT Womens University, Mumbai\",\"Dr DY Patil University, Navi Mumbai\",\"AC Patil College of Engineering, Navi Mumbai\",\"Lokmanya Tilak Institute of Architecture and Design Studies, Navi..\",\"Maharashtra Mudran Parishads Institute of Printing Technology and..\",\"Lokmanya Tilak Institute of Architecture Design Studies, Navi..\",\"Bharati Vidyapeeth College of Architecture, Navi Mumbai\",\"Anjuman I Islam’s AR Kalsekar Polytechnic, Navi Mumbai\",\"Pillai Polytechnic, New Panvel\",\"Saraswati Institute of Technology, Navi Mumbai\",\"Agnel Polytechnic, Vashi\",\"Bharati Vidyapeeth College of Architecture, Navi Mumbai\",\"Padmashree Dr DY Patil Polytechnic, Nerul\",\"St Wilfred’s Institute of Architecture, Raigad\",\"Marine Engineering and Research Institute, Mumbai\",\"Sir JJ College of Architecture, Mumbai\",\"Tolani Maritime Institute, Mumbai\",\"Homi Bhabha National Institute, Mumbai\",'University of Mumbai, Mumbai','Tata Institute of Fundamental Research, Mumbai','Vidyalankar Institute of Technology, Mumbai','']\n",
        "lst=[]\n",
        "for sublist in details:\n",
        "    if sublist[0] not in dropclg:\n",
        "        lst1=[]\n",
        "        for item in sublist:\n",
        "            if item not in droplist:\n",
        "                res=''\n",
        "                for word in item.split():\n",
        "                    if word not in droplist:\n",
        "                        res=res+' '+word\n",
        "                if len(res) > 3:\n",
        "                    lst1.append(res)\n",
        "\n",
        "        lst.append(lst1)\n",
        "        \n",
        "lst"
      ],
      "execution_count": 0,
      "outputs": [
        {
          "output_type": "execute_result",
          "data": {
            "text/plain": [
              "[[' Fr C Rodrigues Institute of Technology, Navi Mumbai',\n",
              "  ' Navi Mumbai, Maharashtra',\n",
              "  ' Private',\n",
              "  ' AICTE',\n",
              "  ' MHT CET, JEE Main, GATE',\n",
              "  ' 4.51 Lakhs'],\n",
              " [' Ramrao Adik Institute of Technology, Navi Mumbai',\n",
              "  ' Navi Mumbai, Maharashtra',\n",
              "  ' Private',\n",
              "  ' AICTE',\n",
              "  ' JEE Main, GATE, SET',\n",
              "  ' 4.2 Lakhs'],\n",
              " [' Datta Meghe College of Engineering, Navi Mumbai',\n",
              "  ' Navi Mumbai, Maharashtra',\n",
              "  ' Private',\n",
              "  ' AICTE',\n",
              "  ' MHT CET',\n",
              "  ' 3.71 Lakhs'],\n",
              " [' Bharati Vidyapeeth College of Engineering, Navi Mumbai',\n",
              "  ' Navi Mumbai, Maharashtra',\n",
              "  ' Private',\n",
              "  ' AICTE',\n",
              "  ' JEE Main, MHT CET, GATE',\n",
              "  ' 3.69 Lakhs'],\n",
              " [' Lokmanya Tilak College of Engineering, Navi Mumbai',\n",
              "  ' Navi Mumbai, Maharashtra',\n",
              "  ' Private',\n",
              "  ' AICTE',\n",
              "  ' MHT CET, GATE',\n",
              "  ' 4.71 Lakhs'],\n",
              " [' Saraswati College of Engineering, Navi Mumbai',\n",
              "  ' Navi Mumbai, Maharashtra',\n",
              "  ' Private',\n",
              "  ' AICTE',\n",
              "  ' MHT CET, JEE Main',\n",
              "  ' 3.55 Lakhs'],\n",
              " [' SIES Graduate School of Technology, Navi Mumbai',\n",
              "  ' Navi Mumbai, Maharashtra',\n",
              "  ' Private',\n",
              "  ' AICTE',\n",
              "  ' MHT CET, JEE Main',\n",
              "  ' 4.38 Lakhs'],\n",
              " [\" Terna Public Charitable Trust's Terna College, N..\",\n",
              "  ' Navi Mumbai, Maharashtra',\n",
              "  ' Private',\n",
              "  ' AICTE',\n",
              "  ' MHT CET, JEE Main',\n",
              "  ' 3.83 Lakhs'],\n",
              " [' Pillai College of Engineering, New Panvel',\n",
              "  ' Navi Mumbai, Maharashtra',\n",
              "  ' Private',\n",
              "  ' AICTE',\n",
              "  ' MHT CET',\n",
              "  ' 3.82 Lakhs'],\n",
              " [\" Anjuman-I-Islam's Kalsekar Technical Campus, Navi Mumbai\",\n",
              "  ' Navi Mumbai, Maharashtra',\n",
              "  ' Private',\n",
              "  ' AICTE',\n",
              "  ' GATE, MHT CET, NATA',\n",
              "  ' 2.78 Lakhs'],\n",
              " [\" Mahatma Gandhi Mission's College of Technolo..\",\n",
              "  ' Navi Mumbai, Maharashtra',\n",
              "  ' Private',\n",
              "  ' AICTE',\n",
              "  ' JEE Main, MHT CET, GATE',\n",
              "  ' 3.65 Lakhs'],\n",
              " [' Chhatrapati Shivaji Maharaj Institute of Technology, Navi Mumbai',\n",
              "  ' Navi Mumbai, Maharashtra',\n",
              "  ' Private',\n",
              "  ' AICTE',\n",
              "  ' JEE Main, MHT CET',\n",
              "  ' 2.44 Lakhs'],\n",
              " [\" Jawahar Education Society's AC Patil College of Engineering,..\",\n",
              "  ' Navi Mumbai, Maharashtra',\n",
              "  ' Private',\n",
              "  ' AICTE',\n",
              "  ' MHT CET, JEE Main',\n",
              "  ' 3.62 Lakhs'],\n",
              " [' Dr DY Patil Bioinformatics Institute, Navi Mumb..',\n",
              "  ' Navi Mumbai, Maharashtra',\n",
              "  ' Private',\n",
              "  ' UGC',\n",
              "  ' MHT CET',\n",
              "  ' 7.1 Lakhs'],\n",
              " [' Smt Indira Gandhi College of Engineering, Navi Mumbai',\n",
              "  ' Navi Mumbai, Maharashtra',\n",
              "  ' Private',\n",
              "  ' AICTE',\n",
              "  ' JEE Main, MHT CET',\n",
              "  ' 2.72 Lakhs']]"
            ]
          },
          "metadata": {
            "tags": []
          },
          "execution_count": 45
        }
      ]
    },
    {
      "metadata": {
        "id": "ZT5ripv4wz5S",
        "colab_type": "code",
        "colab": {},
        "outputId": "ebcd9b73-002b-4ab2-d733-470a380e382b"
      },
      "cell_type": "code",
      "source": [
        "len(lst)"
      ],
      "execution_count": 0,
      "outputs": [
        {
          "output_type": "execute_result",
          "data": {
            "text/plain": [
              "15"
            ]
          },
          "metadata": {
            "tags": []
          },
          "execution_count": 46
        }
      ]
    },
    {
      "metadata": {
        "id": "U1_HlLvIwz5f",
        "colab_type": "code",
        "colab": {},
        "outputId": "f2f23dcb-2dd5-4f6f-fcb2-5ffdae362aa2"
      },
      "cell_type": "code",
      "source": [
        "for i in range(len(lst)):\n",
        "    print(lst[i][0])"
      ],
      "execution_count": 0,
      "outputs": [
        {
          "output_type": "stream",
          "text": [
            " Fr C Rodrigues Institute of Technology, Navi Mumbai\n",
            " Ramrao Adik Institute of Technology, Navi Mumbai\n",
            " Datta Meghe College of Engineering, Navi Mumbai\n",
            " Bharati Vidyapeeth College of Engineering, Navi Mumbai\n",
            " Lokmanya Tilak College of Engineering, Navi Mumbai\n",
            " Saraswati College of Engineering, Navi Mumbai\n",
            " SIES Graduate School of Technology, Navi Mumbai\n",
            " Terna Public Charitable Trust's Terna College, N..\n",
            " Pillai College of Engineering, New Panvel\n",
            " Anjuman-I-Islam's Kalsekar Technical Campus, Navi Mumbai\n",
            " Mahatma Gandhi Mission's College of Technolo..\n",
            " Chhatrapati Shivaji Maharaj Institute of Technology, Navi Mumbai\n",
            " Jawahar Education Society's AC Patil College of Engineering,..\n",
            " Dr DY Patil Bioinformatics Institute, Navi Mumb..\n",
            " Smt Indira Gandhi College of Engineering, Navi Mumbai\n"
          ],
          "name": "stdout"
        }
      ]
    },
    {
      "metadata": {
        "id": "sFnSvkh1wz5-",
        "colab_type": "code",
        "colab": {}
      },
      "cell_type": "code",
      "source": [
        "import pandas as pd\n",
        "import sqlite3 as sq"
      ],
      "execution_count": 0,
      "outputs": []
    },
    {
      "metadata": {
        "id": "j_jpUw0ywz6Q",
        "colab_type": "code",
        "colab": {},
        "outputId": "8473c84f-85d1-4219-ee73-c0e3606412bb"
      },
      "cell_type": "code",
      "source": [
        "df=pd.DataFrame(lst,columns=['COLLEGENAME','LOCATION','OWNERSHIP','APPROVED BY','EXAM ACCEPTED','FEES'])\n",
        "\n",
        "df"
      ],
      "execution_count": 0,
      "outputs": [
        {
          "output_type": "execute_result",
          "data": {
            "text/html": [
              "<div>\n",
              "<style scoped>\n",
              "    .dataframe tbody tr th:only-of-type {\n",
              "        vertical-align: middle;\n",
              "    }\n",
              "\n",
              "    .dataframe tbody tr th {\n",
              "        vertical-align: top;\n",
              "    }\n",
              "\n",
              "    .dataframe thead th {\n",
              "        text-align: right;\n",
              "    }\n",
              "</style>\n",
              "<table border=\"1\" class=\"dataframe\">\n",
              "  <thead>\n",
              "    <tr style=\"text-align: right;\">\n",
              "      <th></th>\n",
              "      <th>COLLEGENAME</th>\n",
              "      <th>LOCATION</th>\n",
              "      <th>OWNERSHIP</th>\n",
              "      <th>APPROVED BY</th>\n",
              "      <th>EXAM ACCEPTED</th>\n",
              "      <th>FEES</th>\n",
              "    </tr>\n",
              "  </thead>\n",
              "  <tbody>\n",
              "    <tr>\n",
              "      <th>0</th>\n",
              "      <td>Fr C Rodrigues Institute of Technology, Navi ...</td>\n",
              "      <td>Navi Mumbai, Maharashtra</td>\n",
              "      <td>Private</td>\n",
              "      <td>AICTE</td>\n",
              "      <td>MHT CET, JEE Main, GATE</td>\n",
              "      <td>4.51 Lakhs</td>\n",
              "    </tr>\n",
              "    <tr>\n",
              "      <th>1</th>\n",
              "      <td>Ramrao Adik Institute of Technology, Navi Mumbai</td>\n",
              "      <td>Navi Mumbai, Maharashtra</td>\n",
              "      <td>Private</td>\n",
              "      <td>AICTE</td>\n",
              "      <td>JEE Main, GATE, SET</td>\n",
              "      <td>4.2 Lakhs</td>\n",
              "    </tr>\n",
              "    <tr>\n",
              "      <th>2</th>\n",
              "      <td>Datta Meghe College of Engineering, Navi Mumbai</td>\n",
              "      <td>Navi Mumbai, Maharashtra</td>\n",
              "      <td>Private</td>\n",
              "      <td>AICTE</td>\n",
              "      <td>MHT CET</td>\n",
              "      <td>3.71 Lakhs</td>\n",
              "    </tr>\n",
              "    <tr>\n",
              "      <th>3</th>\n",
              "      <td>Bharati Vidyapeeth College of Engineering, Na...</td>\n",
              "      <td>Navi Mumbai, Maharashtra</td>\n",
              "      <td>Private</td>\n",
              "      <td>AICTE</td>\n",
              "      <td>JEE Main, MHT CET, GATE</td>\n",
              "      <td>3.69 Lakhs</td>\n",
              "    </tr>\n",
              "    <tr>\n",
              "      <th>4</th>\n",
              "      <td>Lokmanya Tilak College of Engineering, Navi M...</td>\n",
              "      <td>Navi Mumbai, Maharashtra</td>\n",
              "      <td>Private</td>\n",
              "      <td>AICTE</td>\n",
              "      <td>MHT CET, GATE</td>\n",
              "      <td>4.71 Lakhs</td>\n",
              "    </tr>\n",
              "    <tr>\n",
              "      <th>5</th>\n",
              "      <td>Saraswati College of Engineering, Navi Mumbai</td>\n",
              "      <td>Navi Mumbai, Maharashtra</td>\n",
              "      <td>Private</td>\n",
              "      <td>AICTE</td>\n",
              "      <td>MHT CET, JEE Main</td>\n",
              "      <td>3.55 Lakhs</td>\n",
              "    </tr>\n",
              "    <tr>\n",
              "      <th>6</th>\n",
              "      <td>SIES Graduate School of Technology, Navi Mumbai</td>\n",
              "      <td>Navi Mumbai, Maharashtra</td>\n",
              "      <td>Private</td>\n",
              "      <td>AICTE</td>\n",
              "      <td>MHT CET, JEE Main</td>\n",
              "      <td>4.38 Lakhs</td>\n",
              "    </tr>\n",
              "    <tr>\n",
              "      <th>7</th>\n",
              "      <td>Terna Public Charitable Trust's Terna College...</td>\n",
              "      <td>Navi Mumbai, Maharashtra</td>\n",
              "      <td>Private</td>\n",
              "      <td>AICTE</td>\n",
              "      <td>MHT CET, JEE Main</td>\n",
              "      <td>3.83 Lakhs</td>\n",
              "    </tr>\n",
              "    <tr>\n",
              "      <th>8</th>\n",
              "      <td>Pillai College of Engineering, New Panvel</td>\n",
              "      <td>Navi Mumbai, Maharashtra</td>\n",
              "      <td>Private</td>\n",
              "      <td>AICTE</td>\n",
              "      <td>MHT CET</td>\n",
              "      <td>3.82 Lakhs</td>\n",
              "    </tr>\n",
              "    <tr>\n",
              "      <th>9</th>\n",
              "      <td>Anjuman-I-Islam's Kalsekar Technical Campus, ...</td>\n",
              "      <td>Navi Mumbai, Maharashtra</td>\n",
              "      <td>Private</td>\n",
              "      <td>AICTE</td>\n",
              "      <td>GATE, MHT CET, NATA</td>\n",
              "      <td>2.78 Lakhs</td>\n",
              "    </tr>\n",
              "    <tr>\n",
              "      <th>10</th>\n",
              "      <td>Mahatma Gandhi Mission's College of Technolo..</td>\n",
              "      <td>Navi Mumbai, Maharashtra</td>\n",
              "      <td>Private</td>\n",
              "      <td>AICTE</td>\n",
              "      <td>JEE Main, MHT CET, GATE</td>\n",
              "      <td>3.65 Lakhs</td>\n",
              "    </tr>\n",
              "    <tr>\n",
              "      <th>11</th>\n",
              "      <td>Chhatrapati Shivaji Maharaj Institute of Tech...</td>\n",
              "      <td>Navi Mumbai, Maharashtra</td>\n",
              "      <td>Private</td>\n",
              "      <td>AICTE</td>\n",
              "      <td>JEE Main, MHT CET</td>\n",
              "      <td>2.44 Lakhs</td>\n",
              "    </tr>\n",
              "    <tr>\n",
              "      <th>12</th>\n",
              "      <td>Jawahar Education Society's AC Patil College ...</td>\n",
              "      <td>Navi Mumbai, Maharashtra</td>\n",
              "      <td>Private</td>\n",
              "      <td>AICTE</td>\n",
              "      <td>MHT CET, JEE Main</td>\n",
              "      <td>3.62 Lakhs</td>\n",
              "    </tr>\n",
              "    <tr>\n",
              "      <th>13</th>\n",
              "      <td>Dr DY Patil Bioinformatics Institute, Navi Mu...</td>\n",
              "      <td>Navi Mumbai, Maharashtra</td>\n",
              "      <td>Private</td>\n",
              "      <td>UGC</td>\n",
              "      <td>MHT CET</td>\n",
              "      <td>7.1 Lakhs</td>\n",
              "    </tr>\n",
              "    <tr>\n",
              "      <th>14</th>\n",
              "      <td>Smt Indira Gandhi College of Engineering, Nav...</td>\n",
              "      <td>Navi Mumbai, Maharashtra</td>\n",
              "      <td>Private</td>\n",
              "      <td>AICTE</td>\n",
              "      <td>JEE Main, MHT CET</td>\n",
              "      <td>2.72 Lakhs</td>\n",
              "    </tr>\n",
              "  </tbody>\n",
              "</table>\n",
              "</div>"
            ],
            "text/plain": [
              "                                          COLLEGENAME  \\\n",
              "0    Fr C Rodrigues Institute of Technology, Navi ...   \n",
              "1    Ramrao Adik Institute of Technology, Navi Mumbai   \n",
              "2     Datta Meghe College of Engineering, Navi Mumbai   \n",
              "3    Bharati Vidyapeeth College of Engineering, Na...   \n",
              "4    Lokmanya Tilak College of Engineering, Navi M...   \n",
              "5       Saraswati College of Engineering, Navi Mumbai   \n",
              "6     SIES Graduate School of Technology, Navi Mumbai   \n",
              "7    Terna Public Charitable Trust's Terna College...   \n",
              "8           Pillai College of Engineering, New Panvel   \n",
              "9    Anjuman-I-Islam's Kalsekar Technical Campus, ...   \n",
              "10     Mahatma Gandhi Mission's College of Technolo..   \n",
              "11   Chhatrapati Shivaji Maharaj Institute of Tech...   \n",
              "12   Jawahar Education Society's AC Patil College ...   \n",
              "13   Dr DY Patil Bioinformatics Institute, Navi Mu...   \n",
              "14   Smt Indira Gandhi College of Engineering, Nav...   \n",
              "\n",
              "                     LOCATION OWNERSHIP APPROVED BY             EXAM ACCEPTED  \\\n",
              "0    Navi Mumbai, Maharashtra   Private       AICTE   MHT CET, JEE Main, GATE   \n",
              "1    Navi Mumbai, Maharashtra   Private       AICTE       JEE Main, GATE, SET   \n",
              "2    Navi Mumbai, Maharashtra   Private       AICTE                   MHT CET   \n",
              "3    Navi Mumbai, Maharashtra   Private       AICTE   JEE Main, MHT CET, GATE   \n",
              "4    Navi Mumbai, Maharashtra   Private       AICTE             MHT CET, GATE   \n",
              "5    Navi Mumbai, Maharashtra   Private       AICTE         MHT CET, JEE Main   \n",
              "6    Navi Mumbai, Maharashtra   Private       AICTE         MHT CET, JEE Main   \n",
              "7    Navi Mumbai, Maharashtra   Private       AICTE         MHT CET, JEE Main   \n",
              "8    Navi Mumbai, Maharashtra   Private       AICTE                   MHT CET   \n",
              "9    Navi Mumbai, Maharashtra   Private       AICTE       GATE, MHT CET, NATA   \n",
              "10   Navi Mumbai, Maharashtra   Private       AICTE   JEE Main, MHT CET, GATE   \n",
              "11   Navi Mumbai, Maharashtra   Private       AICTE         JEE Main, MHT CET   \n",
              "12   Navi Mumbai, Maharashtra   Private       AICTE         MHT CET, JEE Main   \n",
              "13   Navi Mumbai, Maharashtra   Private         UGC                   MHT CET   \n",
              "14   Navi Mumbai, Maharashtra   Private       AICTE         JEE Main, MHT CET   \n",
              "\n",
              "           FEES  \n",
              "0    4.51 Lakhs  \n",
              "1     4.2 Lakhs  \n",
              "2    3.71 Lakhs  \n",
              "3    3.69 Lakhs  \n",
              "4    4.71 Lakhs  \n",
              "5    3.55 Lakhs  \n",
              "6    4.38 Lakhs  \n",
              "7    3.83 Lakhs  \n",
              "8    3.82 Lakhs  \n",
              "9    2.78 Lakhs  \n",
              "10   3.65 Lakhs  \n",
              "11   2.44 Lakhs  \n",
              "12   3.62 Lakhs  \n",
              "13    7.1 Lakhs  \n",
              "14   2.72 Lakhs  "
            ]
          },
          "metadata": {
            "tags": []
          },
          "execution_count": 49
        }
      ]
    },
    {
      "metadata": {
        "id": "k49mXgNuwz6g",
        "colab_type": "code",
        "colab": {},
        "outputId": "ad598829-e027-4828-8615-f7d6d7f1862c"
      },
      "cell_type": "code",
      "source": [
        "conn=sq.connect('navmump1.sqlite')\n",
        "\n",
        "c=conn.cursor()\n",
        "df.to_sql('data',conn,if_exists='replace',index=False)\n",
        "conn.close"
      ],
      "execution_count": 0,
      "outputs": [
        {
          "output_type": "stream",
          "text": [
            "C:\\Users\\Admin\\Anaconda3\\lib\\site-packages\\pandas\\core\\generic.py:1534: UserWarning: The spaces in these column names will not be changed. In pandas versions < 0.14, spaces were converted to underscores.\n",
            "  chunksize=chunksize, dtype=dtype)\n"
          ],
          "name": "stderr"
        },
        {
          "output_type": "execute_result",
          "data": {
            "text/plain": [
              "<function Connection.close>"
            ]
          },
          "metadata": {
            "tags": []
          },
          "execution_count": 53
        }
      ]
    },
    {
      "metadata": {
        "id": "V72CMNInwz67",
        "colab_type": "code",
        "colab": {},
        "outputId": "3d3a7b86-ef9f-45cb-f9e3-bcb13ceaed91"
      },
      "cell_type": "code",
      "source": [
        "conn =sq.connect('navmump1.sqlite')\n",
        "\n",
        "df=pd.read_sql_query(\"\"\"select * from data;\"\"\",conn)\n",
        "conn.close()\n",
        "df.head()"
      ],
      "execution_count": 0,
      "outputs": [
        {
          "output_type": "execute_result",
          "data": {
            "text/html": [
              "<div>\n",
              "<style scoped>\n",
              "    .dataframe tbody tr th:only-of-type {\n",
              "        vertical-align: middle;\n",
              "    }\n",
              "\n",
              "    .dataframe tbody tr th {\n",
              "        vertical-align: top;\n",
              "    }\n",
              "\n",
              "    .dataframe thead th {\n",
              "        text-align: right;\n",
              "    }\n",
              "</style>\n",
              "<table border=\"1\" class=\"dataframe\">\n",
              "  <thead>\n",
              "    <tr style=\"text-align: right;\">\n",
              "      <th></th>\n",
              "      <th>COLLEGENAME</th>\n",
              "      <th>LOCATION</th>\n",
              "      <th>OWNERSHIP</th>\n",
              "      <th>APPROVED BY</th>\n",
              "      <th>EXAM ACCEPTED</th>\n",
              "      <th>FEES</th>\n",
              "    </tr>\n",
              "  </thead>\n",
              "  <tbody>\n",
              "    <tr>\n",
              "      <th>0</th>\n",
              "      <td>Fr C Rodrigues Institute of Technology, Navi ...</td>\n",
              "      <td>Navi Mumbai, Maharashtra</td>\n",
              "      <td>Private</td>\n",
              "      <td>AICTE</td>\n",
              "      <td>MHT CET, JEE Main, GATE</td>\n",
              "      <td>4.51 Lakhs</td>\n",
              "    </tr>\n",
              "    <tr>\n",
              "      <th>1</th>\n",
              "      <td>Ramrao Adik Institute of Technology, Navi Mumbai</td>\n",
              "      <td>Navi Mumbai, Maharashtra</td>\n",
              "      <td>Private</td>\n",
              "      <td>AICTE</td>\n",
              "      <td>JEE Main, GATE, SET</td>\n",
              "      <td>4.2 Lakhs</td>\n",
              "    </tr>\n",
              "    <tr>\n",
              "      <th>2</th>\n",
              "      <td>Datta Meghe College of Engineering, Navi Mumbai</td>\n",
              "      <td>Navi Mumbai, Maharashtra</td>\n",
              "      <td>Private</td>\n",
              "      <td>AICTE</td>\n",
              "      <td>MHT CET</td>\n",
              "      <td>3.71 Lakhs</td>\n",
              "    </tr>\n",
              "    <tr>\n",
              "      <th>3</th>\n",
              "      <td>Bharati Vidyapeeth College of Engineering, Na...</td>\n",
              "      <td>Navi Mumbai, Maharashtra</td>\n",
              "      <td>Private</td>\n",
              "      <td>AICTE</td>\n",
              "      <td>JEE Main, MHT CET, GATE</td>\n",
              "      <td>3.69 Lakhs</td>\n",
              "    </tr>\n",
              "    <tr>\n",
              "      <th>4</th>\n",
              "      <td>Lokmanya Tilak College of Engineering, Navi M...</td>\n",
              "      <td>Navi Mumbai, Maharashtra</td>\n",
              "      <td>Private</td>\n",
              "      <td>AICTE</td>\n",
              "      <td>MHT CET, GATE</td>\n",
              "      <td>4.71 Lakhs</td>\n",
              "    </tr>\n",
              "  </tbody>\n",
              "</table>\n",
              "</div>"
            ],
            "text/plain": [
              "                                         COLLEGENAME  \\\n",
              "0   Fr C Rodrigues Institute of Technology, Navi ...   \n",
              "1   Ramrao Adik Institute of Technology, Navi Mumbai   \n",
              "2    Datta Meghe College of Engineering, Navi Mumbai   \n",
              "3   Bharati Vidyapeeth College of Engineering, Na...   \n",
              "4   Lokmanya Tilak College of Engineering, Navi M...   \n",
              "\n",
              "                    LOCATION OWNERSHIP APPROVED BY             EXAM ACCEPTED  \\\n",
              "0   Navi Mumbai, Maharashtra   Private       AICTE   MHT CET, JEE Main, GATE   \n",
              "1   Navi Mumbai, Maharashtra   Private       AICTE       JEE Main, GATE, SET   \n",
              "2   Navi Mumbai, Maharashtra   Private       AICTE                   MHT CET   \n",
              "3   Navi Mumbai, Maharashtra   Private       AICTE   JEE Main, MHT CET, GATE   \n",
              "4   Navi Mumbai, Maharashtra   Private       AICTE             MHT CET, GATE   \n",
              "\n",
              "          FEES  \n",
              "0   4.51 Lakhs  \n",
              "1    4.2 Lakhs  \n",
              "2   3.71 Lakhs  \n",
              "3   3.69 Lakhs  \n",
              "4   4.71 Lakhs  "
            ]
          },
          "metadata": {
            "tags": []
          },
          "execution_count": 55
        }
      ]
    },
    {
      "metadata": {
        "id": "hZG1t4Lbwz7J",
        "colab_type": "code",
        "colab": {}
      },
      "cell_type": "code",
      "source": [
        ""
      ],
      "execution_count": 0,
      "outputs": []
    }
  ]
}